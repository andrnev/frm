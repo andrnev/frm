{
  "nbformat": 4,
  "nbformat_minor": 0,
  "metadata": {
    "colab": {
      "provenance": [],
      "toc_visible": true,
      "authorship_tag": "ABX9TyMEwHt4MAKoQ0nDzIVod55z",
      "include_colab_link": true
    },
    "kernelspec": {
      "name": "python3",
      "display_name": "Python 3"
    },
    "language_info": {
      "name": "python"
    }
  },
  "cells": [
    {
      "cell_type": "markdown",
      "metadata": {
        "id": "view-in-github",
        "colab_type": "text"
      },
      "source": [
        "<a href=\"https://colab.research.google.com/github/andrnev/frm/blob/main/1_1_Mean_Variance_Framework.ipynb\" target=\"_parent\"><img src=\"https://colab.research.google.com/assets/colab-badge.svg\" alt=\"Open In Colab\"/></a>"
      ]
    },
    {
      "cell_type": "code",
      "execution_count": 1,
      "metadata": {
        "id": "pyKDShLp6OKg"
      },
      "outputs": [],
      "source": [
        "import pandas as pd\n",
        "import numpy as np\n",
        "import scipy as sp"
      ]
    },
    {
      "cell_type": "code",
      "source": [
        "#Expected return and standard deviation\n",
        "\n",
        "#Table of one year returns and probabilities\n",
        "\n",
        "df = pd.DataFrame(data={'prob':[0.05, 0.25, 0.4, 0.25, 0.05],\n",
        "                        'return': [-0.20, 0.0, 0.07, 0.15, 0.40]})\n"
      ],
      "metadata": {
        "id": "HBxn3ZaR6_qr"
      },
      "execution_count": 5,
      "outputs": []
    },
    {
      "cell_type": "code",
      "source": [
        "print(df)"
      ],
      "metadata": {
        "colab": {
          "base_uri": "https://localhost:8080/"
        },
        "id": "RanoHSja8BN3",
        "outputId": "c26616dd-56dc-45b1-82a5-d2070475453d"
      },
      "execution_count": 6,
      "outputs": [
        {
          "output_type": "stream",
          "name": "stdout",
          "text": [
            "   prob  return\n",
            "0  0.05   -0.20\n",
            "1  0.25    0.00\n",
            "2  0.40    0.07\n",
            "3  0.25    0.15\n",
            "4  0.05    0.40\n"
          ]
        }
      ]
    },
    {
      "cell_type": "code",
      "source": [
        "def expected_return(portf):\n",
        "  return np.sum(portf['prob'] * portf['return'])\n",
        "\n",
        "def standard_deviation(portf):\n",
        "  return np.sqrt(expected_return(portf) - )"
      ],
      "metadata": {
        "id": "-h9Xv82-8CjO"
      },
      "execution_count": null,
      "outputs": []
    },
    {
      "cell_type": "code",
      "source": [
        "expected_return(df)"
      ],
      "metadata": {
        "id": "16fg_J6d8mx-"
      },
      "execution_count": null,
      "outputs": []
    },
    {
      "cell_type": "code",
      "source": [],
      "metadata": {
        "id": "h3iL_pBH8pg7"
      },
      "execution_count": null,
      "outputs": []
    }
  ]
}